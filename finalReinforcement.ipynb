{
 "cells": [
  {
   "cell_type": "markdown",
   "id": "591c905c",
   "metadata": {},
   "source": [
    "# REINFORCEMENT LEARNING"
   ]
  },
  {
   "cell_type": "code",
   "execution_count": 3,
   "id": "bba5b1e3",
   "metadata": {},
   "outputs": [
    {
     "name": "stdout",
     "output_type": "stream",
     "text": [
      "Requirement already satisfied: stable-baselines3[extra] in /Users/keyur/opt/anaconda3/envs/tensorflowVenv/lib/python3.7/site-packages (1.5.0)\n",
      "Requirement already satisfied: matplotlib in /Users/keyur/opt/anaconda3/envs/tensorflowVenv/lib/python3.7/site-packages (from stable-baselines3[extra]) (2.2.5)\n",
      "Requirement already satisfied: pandas in /Users/keyur/opt/anaconda3/envs/tensorflowVenv/lib/python3.7/site-packages (from stable-baselines3[extra]) (1.3.4)\n",
      "Requirement already satisfied: torch>=1.8.1 in /Users/keyur/opt/anaconda3/envs/tensorflowVenv/lib/python3.7/site-packages (from stable-baselines3[extra]) (1.11.0)\n",
      "Requirement already satisfied: gym==0.21 in /Users/keyur/opt/anaconda3/envs/tensorflowVenv/lib/python3.7/site-packages (from stable-baselines3[extra]) (0.21.0)\n",
      "Requirement already satisfied: cloudpickle in /Users/keyur/opt/anaconda3/envs/tensorflowVenv/lib/python3.7/site-packages (from stable-baselines3[extra]) (2.1.0)\n",
      "Requirement already satisfied: numpy in /Users/keyur/opt/anaconda3/envs/tensorflowVenv/lib/python3.7/site-packages (from stable-baselines3[extra]) (1.21.2)\n",
      "Requirement already satisfied: ale-py~=0.7.4 in /Users/keyur/opt/anaconda3/envs/tensorflowVenv/lib/python3.7/site-packages (from stable-baselines3[extra]) (0.7.5)\n",
      "Requirement already satisfied: tensorboard>=2.2.0 in /Users/keyur/opt/anaconda3/envs/tensorflowVenv/lib/python3.7/site-packages (from stable-baselines3[extra]) (2.9.0)\n",
      "Requirement already satisfied: pillow in /Users/keyur/opt/anaconda3/envs/tensorflowVenv/lib/python3.7/site-packages (from stable-baselines3[extra]) (9.0.1)\n",
      "Requirement already satisfied: autorom[accept-rom-license]~=0.4.2 in /Users/keyur/opt/anaconda3/envs/tensorflowVenv/lib/python3.7/site-packages (from stable-baselines3[extra]) (0.4.2)\n",
      "Requirement already satisfied: opencv-python in /Users/keyur/opt/anaconda3/envs/tensorflowVenv/lib/python3.7/site-packages (from stable-baselines3[extra]) (4.5.5.64)\n",
      "Requirement already satisfied: psutil in /Users/keyur/opt/anaconda3/envs/tensorflowVenv/lib/python3.7/site-packages (from stable-baselines3[extra]) (5.9.1)\n",
      "Requirement already satisfied: importlib-metadata>=4.8.1 in /Users/keyur/opt/anaconda3/envs/tensorflowVenv/lib/python3.7/site-packages (from gym==0.21->stable-baselines3[extra]) (4.11.3)\n",
      "Requirement already satisfied: importlib-resources in /Users/keyur/opt/anaconda3/envs/tensorflowVenv/lib/python3.7/site-packages (from ale-py~=0.7.4->stable-baselines3[extra]) (5.7.1)\n",
      "Requirement already satisfied: requests in /Users/keyur/opt/anaconda3/envs/tensorflowVenv/lib/python3.7/site-packages (from autorom[accept-rom-license]~=0.4.2->stable-baselines3[extra]) (2.27.1)\n",
      "Requirement already satisfied: tqdm in /Users/keyur/opt/anaconda3/envs/tensorflowVenv/lib/python3.7/site-packages (from autorom[accept-rom-license]~=0.4.2->stable-baselines3[extra]) (4.50.2)\n",
      "Requirement already satisfied: click in /Users/keyur/opt/anaconda3/envs/tensorflowVenv/lib/python3.7/site-packages (from autorom[accept-rom-license]~=0.4.2->stable-baselines3[extra]) (7.1.2)\n",
      "Requirement already satisfied: AutoROM.accept-rom-license in /Users/keyur/opt/anaconda3/envs/tensorflowVenv/lib/python3.7/site-packages (from autorom[accept-rom-license]~=0.4.2->stable-baselines3[extra]) (0.4.2)\n",
      "Requirement already satisfied: zipp>=0.5 in /Users/keyur/opt/anaconda3/envs/tensorflowVenv/lib/python3.7/site-packages (from importlib-metadata>=4.8.1->gym==0.21->stable-baselines3[extra]) (3.7.0)\n",
      "Requirement already satisfied: typing-extensions>=3.6.4 in /Users/keyur/opt/anaconda3/envs/tensorflowVenv/lib/python3.7/site-packages (from importlib-metadata>=4.8.1->gym==0.21->stable-baselines3[extra]) (3.10.0.2)\n",
      "Requirement already satisfied: protobuf>=3.9.2 in /Users/keyur/opt/anaconda3/envs/tensorflowVenv/lib/python3.7/site-packages (from tensorboard>=2.2.0->stable-baselines3[extra]) (3.19.1)\n",
      "Requirement already satisfied: setuptools>=41.0.0 in /Users/keyur/opt/anaconda3/envs/tensorflowVenv/lib/python3.7/site-packages (from tensorboard>=2.2.0->stable-baselines3[extra]) (58.0.4)\n",
      "Requirement already satisfied: google-auth-oauthlib<0.5,>=0.4.1 in /Users/keyur/opt/anaconda3/envs/tensorflowVenv/lib/python3.7/site-packages (from tensorboard>=2.2.0->stable-baselines3[extra]) (0.4.6)\n",
      "Requirement already satisfied: google-auth<3,>=1.6.3 in /Users/keyur/opt/anaconda3/envs/tensorflowVenv/lib/python3.7/site-packages (from tensorboard>=2.2.0->stable-baselines3[extra]) (2.6.6)\n",
      "Requirement already satisfied: tensorboard-data-server<0.7.0,>=0.6.0 in /Users/keyur/opt/anaconda3/envs/tensorflowVenv/lib/python3.7/site-packages (from tensorboard>=2.2.0->stable-baselines3[extra]) (0.6.1)\n",
      "Requirement already satisfied: absl-py>=0.4 in /Users/keyur/opt/anaconda3/envs/tensorflowVenv/lib/python3.7/site-packages (from tensorboard>=2.2.0->stable-baselines3[extra]) (0.15.0)\n",
      "Requirement already satisfied: wheel>=0.26 in /Users/keyur/opt/anaconda3/envs/tensorflowVenv/lib/python3.7/site-packages (from tensorboard>=2.2.0->stable-baselines3[extra]) (0.37.1)\n",
      "Requirement already satisfied: markdown>=2.6.8 in /Users/keyur/opt/anaconda3/envs/tensorflowVenv/lib/python3.7/site-packages (from tensorboard>=2.2.0->stable-baselines3[extra]) (3.3.4)\n",
      "Requirement already satisfied: tensorboard-plugin-wit>=1.6.0 in /Users/keyur/opt/anaconda3/envs/tensorflowVenv/lib/python3.7/site-packages (from tensorboard>=2.2.0->stable-baselines3[extra]) (1.8.1)\n",
      "Requirement already satisfied: grpcio>=1.24.3 in /Users/keyur/opt/anaconda3/envs/tensorflowVenv/lib/python3.7/site-packages (from tensorboard>=2.2.0->stable-baselines3[extra]) (1.42.0)\n",
      "Requirement already satisfied: werkzeug>=1.0.1 in /Users/keyur/opt/anaconda3/envs/tensorflowVenv/lib/python3.7/site-packages (from tensorboard>=2.2.0->stable-baselines3[extra]) (2.0.3)\n",
      "Requirement already satisfied: six in /Users/keyur/opt/anaconda3/envs/tensorflowVenv/lib/python3.7/site-packages (from absl-py>=0.4->tensorboard>=2.2.0->stable-baselines3[extra]) (1.16.0)\n",
      "Requirement already satisfied: rsa<5,>=3.1.4 in /Users/keyur/opt/anaconda3/envs/tensorflowVenv/lib/python3.7/site-packages (from google-auth<3,>=1.6.3->tensorboard>=2.2.0->stable-baselines3[extra]) (4.8)\n",
      "Requirement already satisfied: pyasn1-modules>=0.2.1 in /Users/keyur/opt/anaconda3/envs/tensorflowVenv/lib/python3.7/site-packages (from google-auth<3,>=1.6.3->tensorboard>=2.2.0->stable-baselines3[extra]) (0.2.8)\n",
      "Requirement already satisfied: cachetools<6.0,>=2.0.0 in /Users/keyur/opt/anaconda3/envs/tensorflowVenv/lib/python3.7/site-packages (from google-auth<3,>=1.6.3->tensorboard>=2.2.0->stable-baselines3[extra]) (5.2.0)\n",
      "Requirement already satisfied: requests-oauthlib>=0.7.0 in /Users/keyur/opt/anaconda3/envs/tensorflowVenv/lib/python3.7/site-packages (from google-auth-oauthlib<0.5,>=0.4.1->tensorboard>=2.2.0->stable-baselines3[extra]) (1.3.1)\n",
      "Requirement already satisfied: pyasn1<0.5.0,>=0.4.6 in /Users/keyur/opt/anaconda3/envs/tensorflowVenv/lib/python3.7/site-packages (from pyasn1-modules>=0.2.1->google-auth<3,>=1.6.3->tensorboard>=2.2.0->stable-baselines3[extra]) (0.4.8)\n",
      "Requirement already satisfied: charset-normalizer~=2.0.0 in /Users/keyur/opt/anaconda3/envs/tensorflowVenv/lib/python3.7/site-packages (from requests->autorom[accept-rom-license]~=0.4.2->stable-baselines3[extra]) (2.0.4)\n",
      "Requirement already satisfied: idna<4,>=2.5 in /Users/keyur/opt/anaconda3/envs/tensorflowVenv/lib/python3.7/site-packages (from requests->autorom[accept-rom-license]~=0.4.2->stable-baselines3[extra]) (3.3)\n",
      "Requirement already satisfied: certifi>=2017.4.17 in /Users/keyur/opt/anaconda3/envs/tensorflowVenv/lib/python3.7/site-packages (from requests->autorom[accept-rom-license]~=0.4.2->stable-baselines3[extra]) (2021.10.8)\n",
      "Requirement already satisfied: urllib3<1.27,>=1.21.1 in /Users/keyur/opt/anaconda3/envs/tensorflowVenv/lib/python3.7/site-packages (from requests->autorom[accept-rom-license]~=0.4.2->stable-baselines3[extra]) (1.26.8)\n",
      "Requirement already satisfied: oauthlib>=3.0.0 in /Users/keyur/opt/anaconda3/envs/tensorflowVenv/lib/python3.7/site-packages (from requests-oauthlib>=0.7.0->google-auth-oauthlib<0.5,>=0.4.1->tensorboard>=2.2.0->stable-baselines3[extra]) (3.2.0)\n",
      "Requirement already satisfied: cycler>=0.10 in /Users/keyur/opt/anaconda3/envs/tensorflowVenv/lib/python3.7/site-packages (from matplotlib->stable-baselines3[extra]) (0.11.0)\n"
     ]
    },
    {
     "name": "stdout",
     "output_type": "stream",
     "text": [
      "Requirement already satisfied: pyparsing!=2.0.4,!=2.1.2,!=2.1.6,>=2.0.1 in /Users/keyur/opt/anaconda3/envs/tensorflowVenv/lib/python3.7/site-packages (from matplotlib->stable-baselines3[extra]) (3.0.4)\n",
      "Requirement already satisfied: kiwisolver>=1.0.1 in /Users/keyur/opt/anaconda3/envs/tensorflowVenv/lib/python3.7/site-packages (from matplotlib->stable-baselines3[extra]) (1.3.2)\n",
      "Requirement already satisfied: pytz in /Users/keyur/opt/anaconda3/envs/tensorflowVenv/lib/python3.7/site-packages (from matplotlib->stable-baselines3[extra]) (2021.3)\n",
      "Requirement already satisfied: python-dateutil>=2.1 in /Users/keyur/opt/anaconda3/envs/tensorflowVenv/lib/python3.7/site-packages (from matplotlib->stable-baselines3[extra]) (2.8.2)\n",
      "zsh:1: no matches found: gym[all]\n",
      "Requirement already satisfied: pyglet in /Users/keyur/opt/anaconda3/envs/tensorflowVenv/lib/python3.7/site-packages (1.5.26)\n",
      "Requirement already satisfied: torch in /Users/keyur/opt/anaconda3/envs/tensorflowVenv/lib/python3.7/site-packages (1.11.0)\n",
      "Requirement already satisfied: torchvision in /Users/keyur/opt/anaconda3/envs/tensorflowVenv/lib/python3.7/site-packages (0.12.0)\n",
      "Requirement already satisfied: torchaudio in /Users/keyur/opt/anaconda3/envs/tensorflowVenv/lib/python3.7/site-packages (0.11.0)\n",
      "Requirement already satisfied: typing_extensions in /Users/keyur/opt/anaconda3/envs/tensorflowVenv/lib/python3.7/site-packages (from torch) (3.10.0.2)\n",
      "Requirement already satisfied: numpy in /Users/keyur/opt/anaconda3/envs/tensorflowVenv/lib/python3.7/site-packages (from torchvision) (1.21.2)\n",
      "Requirement already satisfied: requests in /Users/keyur/opt/anaconda3/envs/tensorflowVenv/lib/python3.7/site-packages (from torchvision) (2.27.1)\n",
      "Requirement already satisfied: pillow!=8.3.*,>=5.3.0 in /Users/keyur/opt/anaconda3/envs/tensorflowVenv/lib/python3.7/site-packages (from torchvision) (9.0.1)\n",
      "Requirement already satisfied: urllib3<1.27,>=1.21.1 in /Users/keyur/opt/anaconda3/envs/tensorflowVenv/lib/python3.7/site-packages (from requests->torchvision) (1.26.8)\n",
      "Requirement already satisfied: idna<4,>=2.5 in /Users/keyur/opt/anaconda3/envs/tensorflowVenv/lib/python3.7/site-packages (from requests->torchvision) (3.3)\n",
      "Requirement already satisfied: charset-normalizer~=2.0.0 in /Users/keyur/opt/anaconda3/envs/tensorflowVenv/lib/python3.7/site-packages (from requests->torchvision) (2.0.4)\n",
      "Requirement already satisfied: certifi>=2017.4.17 in /Users/keyur/opt/anaconda3/envs/tensorflowVenv/lib/python3.7/site-packages (from requests->torchvision) (2021.10.8)\n"
     ]
    }
   ],
   "source": [
    "!pip install 'stable-baselines3[extra]'\n",
    "!pip install gym[all]\n",
    "!pip install pyglet\n",
    "!pip3 install torch torchvision torchaudio\n",
    "import os\n",
    "import gym\n",
    "import pyglet\n",
    "import tensorflow\n",
    "from stable_baselines3 import PPO\n",
    "from stable_baselines3.common.vec_env import DummyVecEnv\n",
    "from stable_baselines3.common.evaluation import evaluate_policy"
   ]
  },
  {
   "cell_type": "markdown",
   "id": "6197102d",
   "metadata": {},
   "source": [
    "### Loading the environment"
   ]
  },
  {
   "cell_type": "code",
   "execution_count": 4,
   "id": "367d27f0",
   "metadata": {},
   "outputs": [],
   "source": [
    "# we are loading the environment.\n",
    "env = gym.make('CartPole-v1')"
   ]
  },
  {
   "cell_type": "markdown",
   "id": "5a76b7be",
   "metadata": {},
   "source": [
    "### Testing the environment"
   ]
  },
  {
   "cell_type": "code",
   "execution_count": 5,
   "id": "417d9678",
   "metadata": {},
   "outputs": [
    {
     "name": "stderr",
     "output_type": "stream",
     "text": [
      "2022-06-01 02:28:47.352 python[4279:72949] Warning: Expected min height of view: (<NSPopoverTouchBarItemButton: 0x7f7d68a90440>) to be less than or equal to 30 but got a height of 32.000000. This error will be logged once per view in violation.\n",
      "2022-06-01 02:28:47.353 python[4279:72949] Warning: Expected min height of view: (<NSButton: 0x7f7d68acbd50>) to be less than or equal to 30 but got a height of 32.000000. This error will be logged once per view in violation.\n",
      "2022-06-01 02:28:47.355 python[4279:72949] Warning: Expected min height of view: (<NSPopoverTouchBarItemButton: 0x7f7d68ae36d0>) to be less than or equal to 30 but got a height of 32.000000. This error will be logged once per view in violation.\n",
      "2022-06-01 02:28:47.356 python[4279:72949] Warning: Expected min height of view: (<NSPopoverTouchBarItemButton: 0x7f7d688b29e0>) to be less than or equal to 30 but got a height of 32.000000. This error will be logged once per view in violation.\n"
     ]
    },
    {
     "name": "stdout",
     "output_type": "stream",
     "text": [
      "Episodes: 0 Score: 24.0\n",
      "Episodes: 1 Score: 26.0\n",
      "Episodes: 2 Score: 29.0\n",
      "Episodes: 3 Score: 13.0\n",
      "Episodes: 4 Score: 18.0\n"
     ]
    }
   ],
   "source": [
    "# this part of code to take the random actions in the environment and test it.\n",
    "# to visualize the environment\n",
    "ep = 5 # loop through the env 5 times to test it.\n",
    "for episode in range(ep):\n",
    "    state = env.reset()\n",
    "    done = False\n",
    "    score = 0\n",
    "    while not done:\n",
    "        env.render()\n",
    "        action = env.action_space.sample()\n",
    "        n_states, reward, done, info = env.step(action) # unpacking the values the we are getting from the \n",
    "        score += reward\n",
    "    print(\"Episodes: {} Score: {}\".format(episode, score))\n",
    "env.close()"
   ]
  },
  {
   "cell_type": "code",
   "execution_count": 5,
   "id": "ac93851a",
   "metadata": {},
   "outputs": [
    {
     "data": {
      "text/plain": [
       "array([ 0.03539382, -0.01626619,  0.02682178, -0.00462299], dtype=float32)"
      ]
     },
     "execution_count": 5,
     "metadata": {},
     "output_type": "execute_result"
    }
   ],
   "source": [
    "env.reset() # this will give us the oberservation for the environment"
   ]
  },
  {
   "cell_type": "markdown",
   "id": "b74a711c",
   "metadata": {},
   "source": [
    "### Training the model\n",
    "need to create manually \n",
    "\n",
    "\"Training\"-->\"SavedModels\"\n",
    "\n",
    "\"Training\"-->\"Logs\""
   ]
  },
  {
   "cell_type": "code",
   "execution_count": 6,
   "id": "c11a1c62",
   "metadata": {},
   "outputs": [],
   "source": [
    "# to moniter the logs we are saving the logs in seperate folder that was created manually\n",
    "logs = os.path.join(\"Training\", \"Logs\")"
   ]
  },
  {
   "cell_type": "code",
   "execution_count": 7,
   "id": "0b664865",
   "metadata": {},
   "outputs": [
    {
     "name": "stdout",
     "output_type": "stream",
     "text": [
      "Using cpu device\n"
     ]
    }
   ],
   "source": [
    "en = env\n",
    "en = DummyVecEnv([lambda: en]) # wrap the environment in a dummy environment\n",
    "# we are defining the model and PPO being the algorithm that we are using\n",
    "training_model = PPO('MlpPolicy', en, verbose=1, tensorboard_log=logs)"
   ]
  },
  {
   "cell_type": "code",
   "execution_count": 8,
   "id": "9b931115",
   "metadata": {},
   "outputs": [
    {
     "name": "stdout",
     "output_type": "stream",
     "text": [
      "Logging to Training/Logs/PPO_12\n",
      "-----------------------------\n",
      "| time/              |      |\n",
      "|    fps             | 3781 |\n",
      "|    iterations      | 1    |\n",
      "|    time_elapsed    | 0    |\n",
      "|    total_timesteps | 2048 |\n",
      "-----------------------------\n",
      "-----------------------------------------\n",
      "| time/                   |             |\n",
      "|    fps                  | 2562        |\n",
      "|    iterations           | 2           |\n",
      "|    time_elapsed         | 1           |\n",
      "|    total_timesteps      | 4096        |\n",
      "| train/                  |             |\n",
      "|    approx_kl            | 0.009012528 |\n",
      "|    clip_fraction        | 0.107       |\n",
      "|    clip_range           | 0.2         |\n",
      "|    entropy_loss         | -0.686      |\n",
      "|    explained_variance   | -0.00304    |\n",
      "|    learning_rate        | 0.0003      |\n",
      "|    loss                 | 5.72        |\n",
      "|    n_updates            | 10          |\n",
      "|    policy_gradient_loss | -0.0158     |\n",
      "|    value_loss           | 46.6        |\n",
      "-----------------------------------------\n",
      "------------------------------------------\n",
      "| time/                   |              |\n",
      "|    fps                  | 2341         |\n",
      "|    iterations           | 3            |\n",
      "|    time_elapsed         | 2            |\n",
      "|    total_timesteps      | 6144         |\n",
      "| train/                  |              |\n",
      "|    approx_kl            | 0.0067275325 |\n",
      "|    clip_fraction        | 0.038        |\n",
      "|    clip_range           | 0.2          |\n",
      "|    entropy_loss         | -0.666       |\n",
      "|    explained_variance   | 0.0788       |\n",
      "|    learning_rate        | 0.0003       |\n",
      "|    loss                 | 13.6         |\n",
      "|    n_updates            | 20           |\n",
      "|    policy_gradient_loss | -0.0134      |\n",
      "|    value_loss           | 39.6         |\n",
      "------------------------------------------\n",
      "-----------------------------------------\n",
      "| time/                   |             |\n",
      "|    fps                  | 2251        |\n",
      "|    iterations           | 4           |\n",
      "|    time_elapsed         | 3           |\n",
      "|    total_timesteps      | 8192        |\n",
      "| train/                  |             |\n",
      "|    approx_kl            | 0.007943997 |\n",
      "|    clip_fraction        | 0.0835      |\n",
      "|    clip_range           | 0.2         |\n",
      "|    entropy_loss         | -0.63       |\n",
      "|    explained_variance   | 0.242       |\n",
      "|    learning_rate        | 0.0003      |\n",
      "|    loss                 | 20.1        |\n",
      "|    n_updates            | 30          |\n",
      "|    policy_gradient_loss | -0.0195     |\n",
      "|    value_loss           | 58.4        |\n",
      "-----------------------------------------\n",
      "-----------------------------------------\n",
      "| time/                   |             |\n",
      "|    fps                  | 2199        |\n",
      "|    iterations           | 5           |\n",
      "|    time_elapsed         | 4           |\n",
      "|    total_timesteps      | 10240       |\n",
      "| train/                  |             |\n",
      "|    approx_kl            | 0.007068243 |\n",
      "|    clip_fraction        | 0.0515      |\n",
      "|    clip_range           | 0.2         |\n",
      "|    entropy_loss         | -0.613      |\n",
      "|    explained_variance   | 0.355       |\n",
      "|    learning_rate        | 0.0003      |\n",
      "|    loss                 | 21.3        |\n",
      "|    n_updates            | 40          |\n",
      "|    policy_gradient_loss | -0.0121     |\n",
      "|    value_loss           | 65.5        |\n",
      "-----------------------------------------\n",
      "------------------------------------------\n",
      "| time/                   |              |\n",
      "|    fps                  | 2166         |\n",
      "|    iterations           | 6            |\n",
      "|    time_elapsed         | 5            |\n",
      "|    total_timesteps      | 12288        |\n",
      "| train/                  |              |\n",
      "|    approx_kl            | 0.0076379357 |\n",
      "|    clip_fraction        | 0.0553       |\n",
      "|    clip_range           | 0.2          |\n",
      "|    entropy_loss         | -0.594       |\n",
      "|    explained_variance   | 0.423        |\n",
      "|    learning_rate        | 0.0003       |\n",
      "|    loss                 | 23           |\n",
      "|    n_updates            | 50           |\n",
      "|    policy_gradient_loss | -0.0122      |\n",
      "|    value_loss           | 57           |\n",
      "------------------------------------------\n",
      "-----------------------------------------\n",
      "| time/                   |             |\n",
      "|    fps                  | 2143        |\n",
      "|    iterations           | 7           |\n",
      "|    time_elapsed         | 6           |\n",
      "|    total_timesteps      | 14336       |\n",
      "| train/                  |             |\n",
      "|    approx_kl            | 0.009286068 |\n",
      "|    clip_fraction        | 0.0816      |\n",
      "|    clip_range           | 0.2         |\n",
      "|    entropy_loss         | -0.586      |\n",
      "|    explained_variance   | 0.291       |\n",
      "|    learning_rate        | 0.0003      |\n",
      "|    loss                 | 16.9        |\n",
      "|    n_updates            | 60          |\n",
      "|    policy_gradient_loss | -0.0124     |\n",
      "|    value_loss           | 68.7        |\n",
      "-----------------------------------------\n",
      "-----------------------------------------\n",
      "| time/                   |             |\n",
      "|    fps                  | 2126        |\n",
      "|    iterations           | 8           |\n",
      "|    time_elapsed         | 7           |\n",
      "|    total_timesteps      | 16384       |\n",
      "| train/                  |             |\n",
      "|    approx_kl            | 0.005305768 |\n",
      "|    clip_fraction        | 0.0297      |\n",
      "|    clip_range           | 0.2         |\n",
      "|    entropy_loss         | -0.578      |\n",
      "|    explained_variance   | 0.74        |\n",
      "|    learning_rate        | 0.0003      |\n",
      "|    loss                 | 10.3        |\n",
      "|    n_updates            | 70          |\n",
      "|    policy_gradient_loss | -0.00579    |\n",
      "|    value_loss           | 39.6        |\n",
      "-----------------------------------------\n",
      "------------------------------------------\n",
      "| time/                   |              |\n",
      "|    fps                  | 2112         |\n",
      "|    iterations           | 9            |\n",
      "|    time_elapsed         | 8            |\n",
      "|    total_timesteps      | 18432        |\n",
      "| train/                  |              |\n",
      "|    approx_kl            | 0.0037600296 |\n",
      "|    clip_fraction        | 0.0303       |\n",
      "|    clip_range           | 0.2          |\n",
      "|    entropy_loss         | -0.578       |\n",
      "|    explained_variance   | 0.924        |\n",
      "|    learning_rate        | 0.0003       |\n",
      "|    loss                 | 1.49         |\n",
      "|    n_updates            | 80           |\n",
      "|    policy_gradient_loss | -0.00304     |\n",
      "|    value_loss           | 18.5         |\n",
      "------------------------------------------\n",
      "------------------------------------------\n",
      "| time/                   |              |\n",
      "|    fps                  | 2101         |\n",
      "|    iterations           | 10           |\n",
      "|    time_elapsed         | 9            |\n",
      "|    total_timesteps      | 20480        |\n",
      "| train/                  |              |\n",
      "|    approx_kl            | 0.0035047773 |\n",
      "|    clip_fraction        | 0.0379       |\n",
      "|    clip_range           | 0.2          |\n",
      "|    entropy_loss         | -0.548       |\n",
      "|    explained_variance   | 0.82         |\n",
      "|    learning_rate        | 0.0003       |\n",
      "|    loss                 | 28.4         |\n",
      "|    n_updates            | 90           |\n",
      "|    policy_gradient_loss | -0.00788     |\n",
      "|    value_loss           | 40.3         |\n",
      "------------------------------------------\n"
     ]
    },
    {
     "data": {
      "text/plain": [
       "<stable_baselines3.ppo.ppo.PPO at 0x7ff0c802d0d0>"
      ]
     },
     "execution_count": 8,
     "metadata": {},
     "output_type": "execute_result"
    }
   ],
   "source": [
    "training_model.learn(total_timesteps = 20000) #steps for evaluating and getting score above 200"
   ]
  },
  {
   "cell_type": "markdown",
   "id": "2d24bc0a",
   "metadata": {},
   "source": [
    "### Saving the model"
   ]
  },
  {
   "cell_type": "code",
   "execution_count": 9,
   "id": "b0ca7132",
   "metadata": {},
   "outputs": [],
   "source": [
    "#saving the model\n",
    "PPO_path = os.path.join(\"Training\",\"SavedModels\", \"PPO_model\")\n",
    "training_model.save(PPO_path)"
   ]
  },
  {
   "cell_type": "markdown",
   "id": "03945820",
   "metadata": {},
   "source": [
    "### Evaluating the model"
   ]
  },
  {
   "cell_type": "code",
   "execution_count": null,
   "id": "7d49ebc6",
   "metadata": {},
   "outputs": [],
   "source": [
    "evaluate_policy(training_model, en, n_eval_episodes = 10, render=True)\n",
    "en.close()"
   ]
  },
  {
   "cell_type": "markdown",
   "id": "a8854867",
   "metadata": {},
   "source": [
    "### Testing the model"
   ]
  },
  {
   "cell_type": "code",
   "execution_count": 19,
   "id": "b79758bc",
   "metadata": {},
   "outputs": [
    {
     "name": "stderr",
     "output_type": "stream",
     "text": [
      "2022-06-01 03:43:12.299 python[5510:150529] Warning: Expected min height of view: (<NSPopoverTouchBarItemButton: 0x7fe3ed4a8f20>) to be less than or equal to 30 but got a height of 32.000000. This error will be logged once per view in violation.\n",
      "2022-06-01 03:43:12.300 python[5510:150529] Warning: Expected min height of view: (<NSButton: 0x7fe3ed4c9220>) to be less than or equal to 30 but got a height of 32.000000. This error will be logged once per view in violation.\n",
      "2022-06-01 03:43:12.301 python[5510:150529] Warning: Expected min height of view: (<NSPopoverTouchBarItemButton: 0x7fe3ed4c96a0>) to be less than or equal to 30 but got a height of 32.000000. This error will be logged once per view in violation.\n",
      "2022-06-01 03:43:12.302 python[5510:150529] Warning: Expected min height of view: (<NSPopoverTouchBarItemButton: 0x7fe3ed4cb8f0>) to be less than or equal to 30 but got a height of 32.000000. This error will be logged once per view in violation.\n"
     ]
    },
    {
     "name": "stdout",
     "output_type": "stream",
     "text": [
      "Episodes: 0 Score: 500.0\n",
      "Episodes: 1 Score: 500.0\n",
      "Episodes: 2 Score: 500.0\n",
      "Episodes: 3 Score: 500.0\n",
      "Episodes: 4 Score: 500.0\n"
     ]
    }
   ],
   "source": [
    "# this part of code to take the random actions in the environment and test it.\n",
    "# to visualize the environment\n",
    "# instead of taking random states we are now going to use predict to predict and take Appropriate step\n",
    "ep = 5 # loop through the env 5 times to test it.\n",
    "for episode in range(ep):\n",
    "    observations = env.reset()\n",
    "    done = False\n",
    "    score = 0\n",
    "    while not done:\n",
    "        env.render()\n",
    "        action, _ = training_model.predict(observations)\n",
    "        observations, reward, done, info = env.step(action) # unpacking the values the we are getting from the \n",
    "        score += reward\n",
    "    print(\"Episodes: {} Score: {}\".format(episode, score))\n",
    "env.close()"
   ]
  },
  {
   "cell_type": "markdown",
   "id": "92103cbf",
   "metadata": {},
   "source": [
    "### Viewing the logs\n",
    "to view the logs visit http://localhost:6006"
   ]
  },
  {
   "cell_type": "code",
   "execution_count": 10,
   "id": "94388043",
   "metadata": {},
   "outputs": [
    {
     "data": {
      "text/plain": [
       "'Training/Logs/PPO_11'"
      ]
     },
     "execution_count": 10,
     "metadata": {},
     "output_type": "execute_result"
    }
   ],
   "source": [
    "viewLogs = os.path.join(logs,\"PPO_11\")\n",
    "viewLogs"
   ]
  },
  {
   "cell_type": "code",
   "execution_count": 11,
   "id": "fd2a6883",
   "metadata": {},
   "outputs": [
    {
     "name": "stdout",
     "output_type": "stream",
     "text": [
      "\n",
      "NOTE: Using experimental fast data loading logic. To disable, pass\n",
      "    \"--load_fast=false\" and report issues on GitHub. More details:\n",
      "    https://github.com/tensorflow/tensorboard/issues/4784\n",
      "\n",
      "Serving TensorBoard on localhost; to expose to the network, use a proxy or pass --bind_all\n",
      "TensorBoard 2.9.0 at http://localhost:6006/ (Press CTRL+C to quit)\n",
      "^C\n"
     ]
    }
   ],
   "source": [
    "!tensorboard --logdir={viewLogs}"
   ]
  }
 ],
 "metadata": {
  "kernelspec": {
   "display_name": "Python 3 (ipykernel)",
   "language": "python",
   "name": "python3"
  },
  "language_info": {
   "codemirror_mode": {
    "name": "ipython",
    "version": 3
   },
   "file_extension": ".py",
   "mimetype": "text/x-python",
   "name": "python",
   "nbconvert_exporter": "python",
   "pygments_lexer": "ipython3",
   "version": "3.9.7"
  }
 },
 "nbformat": 4,
 "nbformat_minor": 5
}
